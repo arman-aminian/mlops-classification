{
 "cells": [
  {
   "cell_type": "code",
   "execution_count": 1,
   "id": "4fa46e58",
   "metadata": {},
   "outputs": [],
   "source": [
    "import numpy as np\n",
    "import pandas as pd"
   ]
  },
  {
   "cell_type": "code",
   "execution_count": 16,
   "id": "ec3c9563",
   "metadata": {},
   "outputs": [],
   "source": [
    "posts = pd.read_csv('../dvc_dag/data/raw/posts.csv', \n",
    "                    on_bad_lines='skip', \n",
    "                    delimiter=';', \n",
    "                    names=['model', 'desc', 'price', 'label'])"
   ]
  },
  {
   "cell_type": "code",
   "execution_count": 18,
   "id": "2f647208",
   "metadata": {},
   "outputs": [
    {
     "data": {
      "text/html": [
       "<div>\n",
       "<style scoped>\n",
       "    .dataframe tbody tr th:only-of-type {\n",
       "        vertical-align: middle;\n",
       "    }\n",
       "\n",
       "    .dataframe tbody tr th {\n",
       "        vertical-align: top;\n",
       "    }\n",
       "\n",
       "    .dataframe thead th {\n",
       "        text-align: right;\n",
       "    }\n",
       "</style>\n",
       "<table border=\"1\" class=\"dataframe\">\n",
       "  <thead>\n",
       "    <tr style=\"text-align: right;\">\n",
       "      <th></th>\n",
       "      <th>model</th>\n",
       "      <th>desc</th>\n",
       "      <th>price</th>\n",
       "      <th>label</th>\n",
       "    </tr>\n",
       "  </thead>\n",
       "  <tbody>\n",
       "    <tr>\n",
       "      <th>0</th>\n",
       "      <td>1398</td>\n",
       "      <td>&lt;p class=\"kt-description-row__text kt-descript...</td>\n",
       "      <td>۵٬۳۵۰٬۰۰۰٬۰۰۰ تومان</td>\n",
       "      <td>car_tehran.csv</td>\n",
       "    </tr>\n",
       "    <tr>\n",
       "      <th>1</th>\n",
       "      <td>1383</td>\n",
       "      <td>&lt;p class=\"kt-description-row__text kt-descript...</td>\n",
       "      <td>۵٬۵۰۰٬۰۰۰٬۰۰۰ تومان</td>\n",
       "      <td>car_tehran.csv</td>\n",
       "    </tr>\n",
       "    <tr>\n",
       "      <th>2</th>\n",
       "      <td>1401</td>\n",
       "      <td>&lt;p class=\"kt-description-row__text kt-descript...</td>\n",
       "      <td>۱٬۸۰۰٬۰۰۰٬۰۰۰ تومان</td>\n",
       "      <td>car_tehran.csv</td>\n",
       "    </tr>\n",
       "    <tr>\n",
       "      <th>3</th>\n",
       "      <td>1385</td>\n",
       "      <td>&lt;p class=\"kt-description-row__text kt-descript...</td>\n",
       "      <td>۴٬۶۵۰٬۰۰۰٬۰۰۰ تومان</td>\n",
       "      <td>car_tehran.csv</td>\n",
       "    </tr>\n",
       "    <tr>\n",
       "      <th>4</th>\n",
       "      <td>1391</td>\n",
       "      <td>&lt;p class=\"kt-description-row__text kt-descript...</td>\n",
       "      <td>۲٬۹۰۰٬۰۰۰٬۰۰۰ تومان</td>\n",
       "      <td>car_tehran.csv</td>\n",
       "    </tr>\n",
       "  </tbody>\n",
       "</table>\n",
       "</div>"
      ],
      "text/plain": [
       "   model                                               desc  \\\n",
       "0   1398  <p class=\"kt-description-row__text kt-descript...   \n",
       "1   1383  <p class=\"kt-description-row__text kt-descript...   \n",
       "2   1401  <p class=\"kt-description-row__text kt-descript...   \n",
       "3   1385  <p class=\"kt-description-row__text kt-descript...   \n",
       "4   1391  <p class=\"kt-description-row__text kt-descript...   \n",
       "\n",
       "                 price           label  \n",
       "0  ۵٬۳۵۰٬۰۰۰٬۰۰۰ تومان  car_tehran.csv  \n",
       "1  ۵٬۵۰۰٬۰۰۰٬۰۰۰ تومان  car_tehran.csv  \n",
       "2  ۱٬۸۰۰٬۰۰۰٬۰۰۰ تومان  car_tehran.csv  \n",
       "3  ۴٬۶۵۰٬۰۰۰٬۰۰۰ تومان  car_tehran.csv  \n",
       "4  ۲٬۹۰۰٬۰۰۰٬۰۰۰ تومان  car_tehran.csv  "
      ]
     },
     "execution_count": 18,
     "metadata": {},
     "output_type": "execute_result"
    }
   ],
   "source": [
    "posts.head()"
   ]
  },
  {
   "cell_type": "code",
   "execution_count": null,
   "id": "b74f9a93",
   "metadata": {},
   "outputs": [],
   "source": []
  }
 ],
 "metadata": {
  "kernelspec": {
   "display_name": "Python 3",
   "language": "python",
   "name": "python3"
  },
  "language_info": {
   "codemirror_mode": {
    "name": "ipython",
    "version": 3
   },
   "file_extension": ".py",
   "mimetype": "text/x-python",
   "name": "python",
   "nbconvert_exporter": "python",
   "pygments_lexer": "ipython3",
   "version": "3.8.8"
  }
 },
 "nbformat": 4,
 "nbformat_minor": 5
}
